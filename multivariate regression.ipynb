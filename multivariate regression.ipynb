{
 "cells": [
  {
   "cell_type": "code",
   "execution_count": 1,
   "metadata": {},
   "outputs": [],
   "source": [
    "import pandas as pd\n",
    "import numpy as np\n",
    "import matplotlib.pyplot as plt\n",
    "from sklearn.datasets import load_boston\n",
    "from sklearn.model_selection import train_test_split"
   ]
  },
  {
   "cell_type": "code",
   "execution_count": 2,
   "metadata": {},
   "outputs": [
    {
     "name": "stdout",
     "output_type": "stream",
     "text": [
      "(506, 13) (506,)\n"
     ]
    }
   ],
   "source": [
    "boston=load_boston()\n",
    "\n",
    "x=boston.data\n",
    "y=boston.target\n",
    "print(x.shape,y.shape)"
   ]
  },
  {
   "cell_type": "code",
   "execution_count": 3,
   "metadata": {},
   "outputs": [
    {
     "name": "stdout",
     "output_type": "stream",
     "text": [
      "(506, 1)\n",
      "(506, 13)\n",
      "(506, 14)\n"
     ]
    }
   ],
   "source": [
    "\n",
    "ones = np.ones((x.shape[0],1))\n",
    "print(ones.shape)\n",
    "x=np.array(x)\n",
    "print(x.shape)\n",
    "X=np.column_stack((ones,x))\n",
    "X=(X-X.mean())/X.std()\n",
    "print(X.shape)"
   ]
  },
  {
   "cell_type": "code",
   "execution_count": 4,
   "metadata": {},
   "outputs": [],
   "source": [
    "x_train,x_test,y_train,y_test=train_test_split(X,y,test_size=0.2,shuffle=True)"
   ]
  },
  {
   "cell_type": "code",
   "execution_count": 5,
   "metadata": {},
   "outputs": [
    {
     "name": "stdout",
     "output_type": "stream",
     "text": [
      "(404, 14) (404,)\n",
      "404 14\n"
     ]
    }
   ],
   "source": [
    "print(x_train.shape,y_train.shape)\n",
    "m=x_train.shape[0]\n",
    "n=x_train.shape[1]\n",
    "print(m,n)"
   ]
  },
  {
   "cell_type": "code",
   "execution_count": 9,
   "metadata": {},
   "outputs": [],
   "source": [
    "def hypothesis(x,theta):\n",
    "    return np.dot(theta,x)\n",
    "\n",
    "\n",
    "def gradient(X,Y,theta):\n",
    "    grad=np.zeros((n,))\n",
    "    \n",
    "    for i in range(m):\n",
    "        for j in range(n):\n",
    "            grad[j]+=(hypothesis(X[i],theta)-Y[i])*X[i][j]\n",
    "            \n",
    "    return grad/m\n",
    "\n",
    "def error(X,Y,theta):\n",
    "    err=0\n",
    "    \n",
    "    for i in range(m):\n",
    "        err+=(hypothesis(X[i],theta)-Y[i])**2\n",
    "    \n",
    "    return 0.5*err/m\n",
    "\n",
    "def gradientdescent(X,Y,lr=0.001,threshhold=0.01):\n",
    "    theta=np.full((n,), 0.1)\n",
    "    error_list=[]\n",
    "    \n",
    "    for i in range(800):\n",
    "        \n",
    "        e=error(X,Y,theta)\n",
    "        error_list.append(e)\n",
    "        #if error_list[-2]-error_list[-1]<=threshhold:\n",
    "            #break\n",
    "        for j in range(n):\n",
    "            grad=gradient(X,Y,theta)\n",
    "            theta[j]=theta[j]-lr*grad[j]\n",
    "            \n",
    "    return theta,error_list\n",
    "            \n",
    "        "
   ]
  },
  {
   "cell_type": "code",
   "execution_count": 10,
   "metadata": {},
   "outputs": [],
   "source": [
    "final_theta,error=gradientdescent(x_train,y_train)"
   ]
  },
  {
   "cell_type": "code",
   "execution_count": 11,
   "metadata": {},
   "outputs": [
    {
     "name": "stdout",
     "output_type": "stream",
     "text": [
      "[-1.16058602 -1.31265774 -0.44381712 -1.17131741 -1.17534795 -1.17137214\n",
      " -1.0285433  -0.49380907 -1.0678783  -1.22345356  1.36377604 -0.87838236\n",
      "  6.39919594 -1.21208546]\n"
     ]
    }
   ],
   "source": [
    "print(final_theta)"
   ]
  },
  {
   "cell_type": "code",
   "execution_count": 12,
   "metadata": {},
   "outputs": [
    {
     "data": {
      "text/plain": [
       "[<matplotlib.lines.Line2D at 0x7f1bbd316cc0>]"
      ]
     },
     "execution_count": 12,
     "metadata": {},
     "output_type": "execute_result"
    },
    {
     "data": {
      "image/png": "[encoded data removed]",
      "text/plain": [
       "<Figure size 432x288 with 1 Axes>"
      ]
     },
     "metadata": {},
     "output_type": "display_data"
    }
   ],
   "source": [
    "plt.plot(error)"
   ]
  },
  {
   "cell_type": "code",
   "execution_count": null,
   "metadata": {},
   "outputs": [],
   "source": []
  }
 ],
 "metadata": {
  "kernelspec": {
   "display_name": "Python 3",
   "language": "python",
   "name": "python3"
  },
  "language_info": {
   "codemirror_mode": {
    "name": "ipython",
    "version": 3
   },
   "file_extension": ".py",
   "mimetype": "text/x-python",
   "name": "python",
   "nbconvert_exporter": "python",
   "pygments_lexer": "ipython3",
   "version": "3.6.5"
  }
 },
 "nbformat": 4,
 "nbformat_minor": 2
}
